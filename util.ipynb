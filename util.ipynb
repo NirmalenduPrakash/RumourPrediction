{
 "cells": [
  {
   "cell_type": "code",
   "execution_count": 27,
   "metadata": {},
   "outputs": [],
   "source": [
    "import glob2\n",
    "import pickle\n",
    "import os\n",
    "import ast\n",
    "import json"
   ]
  },
  {
   "cell_type": "code",
   "execution_count": 34,
   "metadata": {},
   "outputs": [],
   "source": [
    "def convert_annotations(annotation, string = True):\n",
    "    if 'misinformation' in annotation.keys() and 'true'in annotation.keys():\n",
    "        if int(annotation['misinformation'])==0 and int(annotation['true'])==0:\n",
    "            if string:\n",
    "                label = \"unverified\"\n",
    "            else:\n",
    "                label = 2\n",
    "        elif int(annotation['misinformation'])==0 and int(annotation['true'])==1 :\n",
    "            if string:\n",
    "                label = \"true\"\n",
    "            else:\n",
    "                label = 1\n",
    "        elif int(annotation['misinformation'])==1 and int(annotation['true'])==0 :\n",
    "            if string:\n",
    "                label = \"false\"\n",
    "            else:\n",
    "                label = 0\n",
    "        elif int(annotation['misinformation'])==1 and int(annotation['true'])==1:\n",
    "            print (\"OMG! They both are 1!\")\n",
    "            print(annotation['misinformation'])\n",
    "            print(annotation['true'])\n",
    "            label = None\n",
    "            \n",
    "    elif 'misinformation' in annotation.keys() and 'true' not in annotation.keys():\n",
    "        # all instances have misinfo label but don't have true label\n",
    "        if int(annotation['misinformation'])==0:\n",
    "            if string:\n",
    "                label = \"unverified\"\n",
    "            else:\n",
    "                label = 2\n",
    "        elif int(annotation['misinformation'])==1:\n",
    "            if string:\n",
    "                label = \"false\"\n",
    "            else:\n",
    "                label = 0\n",
    "                \n",
    "    elif 'true' in annotation.keys() and 'misinformation' not in annotation.keys():\n",
    "        print ('Has true not misinformation')\n",
    "        label = None\n",
    "    else:\n",
    "        print('No annotations')\n",
    "        label = None\n",
    "           \n",
    "    return label"
   ]
  },
  {
   "cell_type": "code",
   "execution_count": 40,
   "metadata": {},
   "outputs": [],
   "source": [
    "event_labels=['charliehebdo','sydneysiege','germanwings-crash','ferguson','ottawashooting']\n",
    "root_path='rumour prediction/data/all-rnr-annotated-threads/'\n",
    "\n",
    "# total reaction count\n",
    "# reactions=[]\n",
    "# for e in event_labels:\n",
    "#     path=root_path + '{}/rumours'.format(e)\n",
    "#     dirs=os.listdir(path)\n",
    "#     for d in dirs:\n",
    "#       if(d=='.DS_Store'):\n",
    "#         continue\n",
    "#       reactions.extend(glob2.glob(path + '/{}/reactions/*.json'.format(d) ))  \n",
    "# reactions=[r.split('/')[-1].replace('.json','') for r in reactions]  \n",
    "\n",
    "veracity_enum = { \n",
    "  'nonrumour':0,\n",
    "  'rumour':1,\n",
    "  'unclear':2\n",
    "}\n",
    "\n",
    "labels={'charliehebdo':veracity_dict,'sydneysiege':veracity_dict,\\\n",
    "        'germanwings-crash':veracity_dict,'ferguson':veracity_dict,'ottawashooting':veracity_dict}\n",
    "root_dir='rumour prediction/data/all-rnr-annotated-threads'\n",
    "for e in event_labels:\n",
    "    veracity_dict={'true':0,'false':0,'unverified':0}\n",
    "    path=root_dir  + '/{}'.format(e) + '/rumours/'\n",
    "    dirs=os.listdir(path)\n",
    "    for d in dirs:\n",
    "      d=d.replace('._','')\n",
    "      if(d=='.DS_Store'):\n",
    "        continue\n",
    "      with open(path + '/' + d + '/annotation.json','r') as f:\n",
    "        veracity=json.load(f)\n",
    "        if(veracity is not None):\n",
    "#           labels.append(veracity['is_rumour'])\n",
    "#           veracity_dict.update({veracity_enum[veracity['is_rumour']]:d})\n",
    "            veracity_dict[convert_annotations(veracity)]+=1\n",
    "        else:\n",
    "          print('annotation none for :{}'.format(d))  \n",
    "    labels[e]=veracity_dict    "
   ]
  },
  {
   "cell_type": "code",
   "execution_count": 41,
   "metadata": {},
   "outputs": [
    {
     "data": {
      "text/plain": [
       "{'charliehebdo': {'true': 193, 'false': 116, 'unverified': 149},\n",
       " 'sydneysiege': {'true': 382, 'false': 86, 'unverified': 54},\n",
       " 'germanwings-crash': {'true': 94, 'false': 111, 'unverified': 33},\n",
       " 'ferguson': {'true': 10, 'false': 8, 'unverified': 266},\n",
       " 'ottawashooting': {'true': 329, 'false': 72, 'unverified': 69}}"
      ]
     },
     "execution_count": 41,
     "metadata": {},
     "output_type": "execute_result"
    }
   ],
   "source": [
    "labels"
   ]
  },
  {
   "cell_type": "code",
   "execution_count": 21,
   "metadata": {},
   "outputs": [],
   "source": [
    "stance_enum={\n",
    "    'agreed':0,\n",
    "    'comment':1,\n",
    "    'appeal-for-more-information':2,\n",
    "    'disagreed':3\n",
    "}"
   ]
  },
  {
   "cell_type": "code",
   "execution_count": 164,
   "metadata": {},
   "outputs": [],
   "source": [
    "root_path='rumour prediction/data/all-rnr-annotated-threads/'\n",
    "replies={'charliehebdo':[],'sydneysiege':[],\\\n",
    "        'germanwings-crash':[],'ferguson':[],'ottawashooting':[]}\n",
    "sources={'charliehebdo':[],'sydneysiege':[],\\\n",
    "        'germanwings-crash':[],'ferguson':[],'ottawashooting':[]}\n",
    "for e in event_labels:\n",
    "    veracity_dict={'true':0,'false':0,'unverified':0}\n",
    "    path=root_path  + e + '/rumours'\n",
    "    dirs=os.listdir(path)\n",
    "    for d in dirs:\n",
    "      d=d.replace('._','')\n",
    "      if(d=='.DS_Store'):\n",
    "        continue \n",
    "#       print(path + '/{}/reactions/*.json'.format(d))\n",
    "#       react=glob2.glob((path + '/{}/reactions/*.json'.format(d)))\n",
    "#       react=[(r.split('/')[-1]).replace('.json','') for r in react]\n",
    "      with open(path + '/{}/structure.json'.format(d),'r')as f:\n",
    "        react=f.read()\n",
    "      react=react.replace('{','').replace('}','').replace('[]','').replace(':',' ')\\\n",
    "                .replace('\\\"','').replace(',',' ').split()\n",
    "      replies[e].extend(react[1:])\n",
    "#       sources[e].append(d)"
   ]
  },
  {
   "cell_type": "code",
   "execution_count": 165,
   "metadata": {},
   "outputs": [],
   "source": [
    "import copy\n",
    "\n",
    "stance={}\n",
    "with open('rumour prediction/data/all-rnr-annotated-threads/stance-annotations.json','r') as f:\n",
    "  lines=f.readlines()\n",
    "for line in lines:\n",
    "  if('#' in line or 'putinmissing' in line \\\n",
    "     or 'prince-toronto' in line or 'ebola-essien' in line):\n",
    "    continue\n",
    "  annot=ast.literal_eval(line)\n",
    "  if('responsetype-vs-source' in annot.keys()):\n",
    "    stance[annot['tweetid']]=annot['responsetype-vs-source']\n",
    "  if('responsetype-vs-previous' in annot.keys()):\n",
    "    stance[annot['tweetid']]=annot['responsetype-vs-previous']"
   ]
  },
  {
   "cell_type": "code",
   "execution_count": 166,
   "metadata": {},
   "outputs": [],
   "source": [
    "stance_dict={'agreed':0,'comment':0,'appeal-for-more-information':0,'disagreed':0}\n",
    "labels={'charliehebdo':copy.deepcopy(stance_dict),'sydneysiege':copy.deepcopy(stance_dict),\\\n",
    "        'germanwings-crash':copy.deepcopy(stance_dict),'ferguson':copy.deepcopy(stance_dict),\\\n",
    "        'ottawashooting':copy.deepcopy(stance_dict)}\n",
    "\n",
    "for k,v in stance.items():\n",
    "    for e in event_labels:\n",
    "        if(k in replies[e]):\n",
    "            labels[e][v]+=1\n",
    "            break    "
   ]
  },
  {
   "cell_type": "code",
   "execution_count": 167,
   "metadata": {},
   "outputs": [
    {
     "data": {
      "text/plain": [
       "{'charliehebdo': {'agreed': 214,\n",
       "  'comment': 666,\n",
       "  'appeal-for-more-information': 50,\n",
       "  'disagreed': 72},\n",
       " 'sydneysiege': {'agreed': 174,\n",
       "  'comment': 677,\n",
       "  'appeal-for-more-information': 87,\n",
       "  'disagreed': 115},\n",
       " 'germanwings-crash': {'agreed': 51,\n",
       "  'comment': 163,\n",
       "  'appeal-for-more-information': 33,\n",
       "  'disagreed': 14},\n",
       " 'ferguson': {'agreed': 145,\n",
       "  'comment': 704,\n",
       "  'appeal-for-more-information': 85,\n",
       "  'disagreed': 108},\n",
       " 'ottawashooting': {'agreed': 127,\n",
       "  'comment': 450,\n",
       "  'appeal-for-more-information': 65,\n",
       "  'disagreed': 82}}"
      ]
     },
     "execution_count": 167,
     "metadata": {},
     "output_type": "execute_result"
    }
   ],
   "source": [
    "labels"
   ]
  },
  {
   "cell_type": "code",
   "execution_count": 25,
   "metadata": {},
   "outputs": [],
   "source": [
    "for stance in list(stance_dict.keys()):\n",
    "    if(stance not in reactions):\n",
    "        print('not found {}'.format(stance))"
   ]
  },
  {
   "cell_type": "code",
   "execution_count": 144,
   "metadata": {},
   "outputs": [
    {
     "data": {
      "text/plain": [
       "4082"
      ]
     },
     "execution_count": 144,
     "metadata": {},
     "output_type": "execute_result"
    }
   ],
   "source": [
    "len(stance)"
   ]
  },
  {
   "cell_type": "code",
   "execution_count": null,
   "metadata": {},
   "outputs": [],
   "source": []
  }
 ],
 "metadata": {
  "kernelspec": {
   "display_name": "Python 3",
   "language": "python",
   "name": "python3"
  },
  "language_info": {
   "codemirror_mode": {
    "name": "ipython",
    "version": 3
   },
   "file_extension": ".py",
   "mimetype": "text/x-python",
   "name": "python",
   "nbconvert_exporter": "python",
   "pygments_lexer": "ipython3",
   "version": "3.7.6"
  }
 },
 "nbformat": 4,
 "nbformat_minor": 2
}
